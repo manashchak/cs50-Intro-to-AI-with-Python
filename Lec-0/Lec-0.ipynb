{
 "cells": [
  {
   "cell_type": "markdown",
   "id": "27f3a68a",
   "metadata": {},
   "source": [
    "# Lec-0: Search\n",
    "\n",
    "Link: https://cs50.harvard.edu/ai/notes/0/\n"
   ]
  },
  {
   "cell_type": "markdown",
   "id": "3895ddd3",
   "metadata": {},
   "source": []
  }
 ],
 "metadata": {
  "language_info": {
   "name": "python"
  }
 },
 "nbformat": 4,
 "nbformat_minor": 5
}
